{
 "cells": [
  {
   "cell_type": "code",
   "execution_count": 1,
   "metadata": {},
   "outputs": [],
   "source": [
    "import pandas as pd\n",
    "import numpy as np\n",
    "import xgboost as xgb\n",
    "from sklearn.model_selection import train_test_split\n",
    "from xgboost import XGBClassifier\n",
    "from sklearn.metrics import accuracy_score\n",
    "from sklearn.preprocessing import LabelEncoder"
   ]
  },
  {
   "cell_type": "code",
   "execution_count": 24,
   "metadata": {},
   "outputs": [],
   "source": [
    "train = pd.read_csv('C:/Users/Administrator/Desktop/移动广告反欺诈算法挑战/移动广告反欺诈算法挑战赛-0621/移动广告反欺诈算法挑战赛/round1_iflyad_anticheat_traindata.txt',encoding='utf-8',sep='\\t')\n",
    "test = pd.read_csv('C:/Users/Administrator/Desktop/移动广告反欺诈算法挑战/移动广告反欺诈算法挑战赛-0621/移动广告反欺诈算法挑战赛/round1_iflyad_anticheat_testdata_feature.txt',encoding='utf-8',sep='\\t')"
   ]
  },
  {
   "cell_type": "code",
   "execution_count": 3,
   "metadata": {},
   "outputs": [],
   "source": [
    "def _process(df):\n",
    "    #缺失值处理\n",
    "    #city用众数填充\n",
    "    df['city'] = df['city'].fillna('北京市')\n",
    "    #lan用众数填充\n",
    "    language = ['zh-CN','Zh-CN', 'zh-cn', 'cn', 'zh_CN', 'zh', 'ZH', 'CN', 'tw','zh_CN_#Hans','zh-TW','zh-HK','zh-US','zh_HK_#Hant',\n",
    "               'zh-MO','zh-','zh_TW']\n",
    "    df.loc[df['lan'].isin(language),'lan'] = 'cn'\n",
    "    df['lan'] = df['lan'].fillna('cn')\n",
    "    #make用众数填充\n",
    "    df['make'] = df['make'].fillna('oppo')\n",
    "    #model用众数填充\n",
    "    df['model'] = df['model'].fillna('PBAMOO')\n",
    "    #osv用众数填充\n",
    "    df['osv'] = df['osv'].fillna('8.1.0')\n",
    "    #ver用众数填充\n",
    "    df['ver'] = df['ver'].fillna('30927000')\n",
    "    \n",
    "    #无用的特征，先删除\n",
    "    df.drop(['sid','nginxtime','ip','reqrealip'],axis=1,inplace=True)\n",
    "    \n",
    "    #运营商\n",
    "    df.loc[df['carrier'] == 46000,'carrier'] = 1\n",
    "    df.loc[df['carrier'] == 46001,'carrier'] = 2\n",
    "    df.loc[df['carrier'] == 46003,'carrier'] = 3\n",
    "    df['make'] = df['make'].str.lower()\n",
    "    df['os'] = df['os'].str.lower()\n",
    "    \n",
    "    #将分类太多的特征取数量排前20的值，其他变成others，方便one-hot\n",
    "    citys = []\n",
    "    for i in df['city'].value_counts().head(20).index:\n",
    "        citys.append(i)\n",
    "    df.loc[~df['city'].isin(citys),'city'] = 'others'\n",
    "\n",
    "    makes = []\n",
    "    for i in df['make'].value_counts().head(20).index:\n",
    "        makes.append(i)\n",
    "    df.loc[~df['make'].isin(makes),'make'] = 'others'\n",
    "\n",
    "    models = []\n",
    "    for i in df['model'].value_counts().head(20).index:\n",
    "        models.append(i)\n",
    "    df.loc[~df['model'].isin(models),'model'] = 'others'\n",
    "\n",
    "    osvs = []\n",
    "    for i in df['osv'].value_counts().head(20).index:\n",
    "        osvs.append(i)\n",
    "    df.loc[~df['osv'].isin(osvs),'osv'] = 'others'\n",
    "    return df"
   ]
  },
  {
   "cell_type": "code",
   "execution_count": 4,
   "metadata": {},
   "outputs": [],
   "source": [
    "train_data = _process(train)\n",
    "test_data = _process(test)"
   ]
  },
  {
   "cell_type": "code",
   "execution_count": 5,
   "metadata": {},
   "outputs": [
    {
     "name": "stderr",
     "output_type": "stream",
     "text": [
      "H:\\anaconda\\lib\\site-packages\\ipykernel_launcher.py:2: FutureWarning: Sorting because non-concatenation axis is not aligned. A future version\n",
      "of pandas will change to not sort by default.\n",
      "\n",
      "To accept the future behavior, pass 'sort=False'.\n",
      "\n",
      "To retain the current behavior and silence the warning, pass 'sort=True'.\n",
      "\n",
      "  \n"
     ]
    }
   ],
   "source": [
    "##结合数据，方便提取特征：axis=0 纵向合并；axis=1 横向合并\n",
    "data=pd.concat([train_data,test_data],axis=0).reset_index(drop=True)\n",
    "\n",
    "#用sklearn进行labelEncode\n",
    "def one_hot_col(col):\n",
    "    '''标签编码'''\n",
    "    lbl = LabelEncoder()\n",
    "    lbl.fit(col)\n",
    "    return lbl\n",
    "\n",
    "object_cols=list(data.dtypes[data.dtypes==np.object].index) ##返回字段名为object类型的字段\n",
    "##对object类型的字段进行标签编码：\n",
    "for col in object_cols:\n",
    "    if col!='sid':\n",
    "        data[col]=one_hot_col(data[col].astype(str)).transform(data[col].astype(str))"
   ]
  },
  {
   "cell_type": "code",
   "execution_count": 6,
   "metadata": {},
   "outputs": [],
   "source": [
    "##划分数据：\n",
    "train1=data[:train_data.shape[0]].drop('label',axis=1)\n",
    "label1=train['label'].values\n",
    "test1=data[train_data.shape[0]:].reset_index(drop=True).drop('label',axis=1)"
   ]
  },
  {
   "cell_type": "code",
   "execution_count": 7,
   "metadata": {},
   "outputs": [],
   "source": [
    "X = train1\n",
    "y = label1"
   ]
  },
  {
   "cell_type": "code",
   "execution_count": 8,
   "metadata": {},
   "outputs": [
    {
     "name": "stderr",
     "output_type": "stream",
     "text": [
      "H:\\anaconda\\lib\\site-packages\\sklearn\\model_selection\\_split.py:2179: FutureWarning: From version 0.21, test_size will always complement train_size unless both are specified.\n",
      "  FutureWarning)\n"
     ]
    }
   ],
   "source": [
    "X_train,X_test,y_train,y_test = train_test_split(X,y,train_size=0.8)"
   ]
  },
  {
   "cell_type": "code",
   "execution_count": 52,
   "metadata": {},
   "outputs": [
    {
     "data": {
      "text/plain": [
       "XGBClassifier(base_score=0.5, booster='gbtree', colsample_bylevel=1,\n",
       "       colsample_bynode=1, colsample_bytree=1, gamma=0, learning_rate=0.1,\n",
       "       max_delta_step=0, max_depth=3, min_child_weight=1, missing=None,\n",
       "       n_estimators=100, n_jobs=1, nthread=None,\n",
       "       objective='binary:logistic', random_state=0, reg_alpha=0,\n",
       "       reg_lambda=1, scale_pos_weight=1, seed=None, silent=None,\n",
       "       subsample=1, verbosity=1)"
      ]
     },
     "execution_count": 52,
     "metadata": {},
     "output_type": "execute_result"
    }
   ],
   "source": [
    "# 训练模型\n",
    "model1 = xgb.XGBClassifier()\n",
    "model1.fit(X_train, y_train)"
   ]
  },
  {
   "cell_type": "code",
   "execution_count": 53,
   "metadata": {},
   "outputs": [
    {
     "name": "stdout",
     "output_type": "stream",
     "text": [
      "Test Accuracy: 89.14%\n"
     ]
    }
   ],
   "source": [
    "# 对测试集进行预测\n",
    "preds = model1.predict(X_test)\n",
    "\n",
    "predictions = [round(value) for value in preds]\n",
    "\n",
    "test_accuracy = accuracy_score(y_test, predictions)\n",
    "print(\"Test Accuracy: %.2f%%\" % (test_accuracy * 100.0))"
   ]
  },
  {
   "cell_type": "code",
   "execution_count": 15,
   "metadata": {},
   "outputs": [
    {
     "name": "stdout",
     "output_type": "stream",
     "text": [
      "Test Accuracy: 93.14%\n"
     ]
    }
   ],
   "source": [
    "model2 = xgb.XGBClassifier(learning_rate =0.1,\n",
    " n_estimators=1000,\n",
    " max_depth=5,\n",
    " gamma=0,\n",
    " subsample=0.8,\n",
    " colsample_bytree=0.8,\n",
    " objective= 'binary:logistic',\n",
    " nthread=4,\n",
    " scale_pos_weight=1,\n",
    " seed=27)\n",
    "model2.fit(X_train, y_train)\n",
    "\n",
    "preds = model2.predict(X_test)\n",
    "\n",
    "predictions = [round(value) for value in preds]\n",
    "\n",
    "test_accuracy = accuracy_score(y_test, predictions)\n",
    "print(\"Test Accuracy: %.2f%%\" % (test_accuracy * 100.0))"
   ]
  },
  {
   "cell_type": "code",
   "execution_count": 21,
   "metadata": {},
   "outputs": [
    {
     "name": "stdout",
     "output_type": "stream",
     "text": [
      "Test Accuracy: 92.94%\n"
     ]
    }
   ],
   "source": [
    "model3 = xgb.XGBClassifier(learning_rate =0.1,\n",
    " n_estimators=1000,\n",
    " max_depth=4,\n",
    " min_child_weight=6,                          \n",
    " gamma=0,\n",
    " subsample=0.8,\n",
    " colsample_bytree=0.8,\n",
    " objective= 'binary:logistic',\n",
    " nthread=4,\n",
    " scale_pos_weight=1,\n",
    " seed=27)\n",
    "model3.fit(X_train, y_train)\n",
    "\n",
    "preds = model3.predict(X_test)\n",
    "\n",
    "predictions = [round(value) for value in preds]\n",
    "\n",
    "test_accuracy = accuracy_score(y_test, predictions)\n",
    "print(\"Test Accuracy: %.2f%%\" % (test_accuracy * 100.0))"
   ]
  },
  {
   "cell_type": "code",
   "execution_count": 22,
   "metadata": {},
   "outputs": [],
   "source": [
    "result_label = model2.predict(test1)"
   ]
  },
  {
   "cell_type": "code",
   "execution_count": 26,
   "metadata": {},
   "outputs": [],
   "source": [
    "sid = test['sid']\n",
    "xgb_result2 = pd.DataFrame({'sid':sid,'label':result_label})\n",
    "xgb_result2.to_csv('xgb_result.csv',index=None)"
   ]
  }
 ],
 "metadata": {
  "kernelspec": {
   "display_name": "Python 3",
   "language": "python",
   "name": "python3"
  },
  "language_info": {
   "codemirror_mode": {
    "name": "ipython",
    "version": 3
   },
   "file_extension": ".py",
   "mimetype": "text/x-python",
   "name": "python",
   "nbconvert_exporter": "python",
   "pygments_lexer": "ipython3",
   "version": "3.7.3"
  }
 },
 "nbformat": 4,
 "nbformat_minor": 2
}
